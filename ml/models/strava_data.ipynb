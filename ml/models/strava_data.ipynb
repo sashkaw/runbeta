{
 "cells": [
  {
   "cell_type": "code",
   "execution_count": 1,
   "metadata": {},
   "outputs": [],
   "source": [
    "# Imports\n",
    "import os\n",
    "import re\n",
    "import requests\n",
    "import webbrowser\n",
    "from datetime import datetime\n",
    "from dotenv import load_dotenv\n",
    "import pandas as pd\n",
    "from stravalib.client import Client"
   ]
  },
  {
   "cell_type": "code",
   "execution_count": 5,
   "metadata": {},
   "outputs": [],
   "source": [
    "# Constants\n",
    "ACTIVITY_STREAM_TYPES = [\n",
    "    'time',\n",
    "    'latlng',\n",
    "    'distance',\n",
    "    'altitude',\n",
    "    'velocity_smooth',\n",
    "    'heartrate',\n",
    "    'grade_smooth'\n",
    "]"
   ]
  },
  {
   "cell_type": "code",
   "execution_count": 13,
   "metadata": {},
   "outputs": [],
   "source": [
    "# Init Strava client\n",
    "client = Client()\n",
    "\n",
    "# Load environment variables\n",
    "load_dotenv('../../.env')\n",
    "STRAVA_CLIENT_ID = os.getenv('SOCIAL_AUTH_STRAVA_KEY')\n",
    "STRAVA_CLIENT_SECRET = os.getenv('SOCIAL_AUTH_STRAVA_SECRET')"
   ]
  },
  {
   "cell_type": "code",
   "execution_count": 14,
   "metadata": {},
   "outputs": [
    {
     "data": {
      "text/plain": [
       "True"
      ]
     },
     "execution_count": 14,
     "metadata": {},
     "output_type": "execute_result"
    }
   ],
   "source": [
    "# get authorization url for first time user manual authorization for access \n",
    "# to their strava account\n",
    "auth_url = client.authorization_url(client_id=STRAVA_CLIENT_ID, \n",
    "    redirect_uri='http://127.0.0.1:8000/', # for local development\n",
    "    scope=['read_all','profile:read_all','activity:read_all'])\n",
    "\n",
    "# Authenticate and add code to environment variables TODO: automate this\n",
    "webbrowser.open(auth_url, new=0, autoraise=True)"
   ]
  },
  {
   "cell_type": "code",
   "execution_count": 17,
   "metadata": {},
   "outputs": [
    {
     "data": {
      "text/plain": [
       "'1e0954eada511baa1c6c89c0131b8648c6076dfa'"
      ]
     },
     "execution_count": 17,
     "metadata": {},
     "output_type": "execute_result"
    }
   ],
   "source": [
    "# Load new env with code\n",
    "load_dotenv('../../.env', override=True)\n",
    "\n",
    "# Get code from the authorization link\n",
    "STRAVA_CLIENT_CODE = os.getenv('SOCIAL_AUTH_STRAVA_CODE')\n",
    "STRAVA_CLIENT_CODE"
   ]
  },
  {
   "cell_type": "code",
   "execution_count": 38,
   "metadata": {},
   "outputs": [
    {
     "name": "stdout",
     "output_type": "stream",
     "text": [
      "Creating new athlete folder...\n"
     ]
    }
   ],
   "source": [
    "# get test data about athlete\n",
    "current_athlete = client.get_athlete()\n",
    "athlete_name = (current_athlete.firstname + '_' + current_athlete.lastname).lower()\n",
    "\n",
    "# Create folder to store data for that athlete\n",
    "folder_path = f'../data/{athlete_name}'\n",
    "if(not os.path.exists(folder_path)):\n",
    "    print('Creating new athlete folder...')\n",
    "    os.mkdir(folder_path)"
   ]
  },
  {
   "cell_type": "code",
   "execution_count": 39,
   "metadata": {},
   "outputs": [],
   "source": [
    "# Define dates for query. Note: there is a Strava API rate limit for given 15 minute period.\n",
    "date_start = datetime(2020, 1, 1)\n",
    "date_end = datetime.now()\n",
    "# Get all activities\n",
    "activities = client.get_activities(before=date_end, after=date_start)"
   ]
  },
  {
   "cell_type": "code",
   "execution_count": 40,
   "metadata": {},
   "outputs": [
    {
     "name": "stdout",
     "output_type": "stream",
     "text": [
      "2023-01-28T15.30.11GMT_Lindseyranak\n",
      "2023-01-24T23.48.08GMT_EveningRun\n",
      "2023-01-24T23.09.20GMT_EveningRun\n",
      "2023-01-15T16.07.50GMT_MorningRun\n",
      "2022-12-27T19.04.52GMT_AfternoonRun\n",
      "2022-12-10T14.05.02GMT_MorningRun\n",
      "2022-12-09T21.28.25GMT_AfternoonRun\n",
      "2022-12-07T15.17.49GMT_MorningRun\n",
      "2022-12-06T00.52.40GMT_AfternoonRun\n",
      "2022-12-03T17.14.47GMT_MorningRun\n",
      "2022-12-02T23.11.31GMT_AfternoonRun\n",
      "2022-11-28T23.15.04GMT_AfternoonRun\n",
      "2022-11-27T16.18.33GMT_MorningRun\n",
      "2022-11-25T18.41.28GMT_LunchRun\n",
      "2022-11-17T23.42.41GMT_AfternoonRun\n",
      "2022-11-13T15.56.27GMT_Teapotlongrun\n",
      "2022-11-11T23.20.28GMT_AfternoonRun\n",
      "2022-11-10T14.24.34GMT_MorningRun\n",
      "2022-11-08T23.20.19GMT_AfternoonRun\n",
      "2022-11-06T16.02.55GMT_MorningRun\n",
      "2022-11-05T22.10.22GMT_AfternoonRun\n",
      "2022-11-04T00.42.22GMT_AfternoonRun\n",
      "2022-11-02T01.21.04GMT_EveningRun\n",
      "2022-11-02T00.37.17GMT_WorkoutWarmUp\n",
      "2022-10-30T15.19.37GMT_MorningRun\n",
      "2022-10-29T15.41.05GMT_MorningRun\n",
      "2022-10-27T12.43.20GMT_Wogtempo\n",
      "2022-10-25T13.51.00GMT_MorningRun\n",
      "2022-10-23T15.46.57GMT_Cooldown\n",
      "2022-10-23T14.10.40GMT_krace\n",
      "2022-10-21T15.52.41GMT_MorningRun\n",
      "2022-10-20T22.25.21GMT_Workout\n",
      "2022-10-19T23.58.49GMT_AfternoonRun\n",
      "2022-10-17T15.54.20GMT_MorningRun\n",
      "2022-10-15T19.55.29GMT_LunchRun\n",
      "2022-10-12T11.04.52GMT_MorningRun\n",
      "2022-10-09T13.29.15GMT_Rillitolongrun\n",
      "2022-10-07T14.18.12GMT_MorningRun\n",
      "2022-10-06T00.55.07GMT_Totallyblastedbyathunderstorm\n",
      "2022-10-04T14.22.18GMT_MorningRun\n"
     ]
    }
   ],
   "source": [
    "# Save running activities with heart rate data as csv files\n",
    "for a in activities:\n",
    "    if(a.type == 'Run' and a.has_heartrate):\n",
    "        # Get dictionary of activity streams\n",
    "        activity_stream = client.get_activity_streams(\n",
    "            activity_id=a.id, types=ACTIVITY_STREAM_TYPES, resolution='medium')\n",
    "        # Extract streams of interest\n",
    "        data = {key: activity_stream.get(key).data for key in ACTIVITY_STREAM_TYPES}\n",
    "        # Create dataframe from streams\n",
    "        df = pd.DataFrame(data=data)\n",
    "        # Create file name from GMT start date and formatted activity name\n",
    "        filename = a.start_date.strftime('%Y-%m-%dT%H.%M.%S') + 'GMT_' + re.sub('[^a-zA-Z]', '', a.name) \n",
    "        print(filename)\n",
    "        # Save dataframe to csv file\n",
    "        df.to_csv(f'../data/{athlete_name}/{filename}.csv', index=False)"
   ]
  }
 ],
 "metadata": {
  "kernelspec": {
   "display_name": "venv",
   "language": "python",
   "name": "python3"
  },
  "language_info": {
   "codemirror_mode": {
    "name": "ipython",
    "version": 3
   },
   "file_extension": ".py",
   "mimetype": "text/x-python",
   "name": "python",
   "nbconvert_exporter": "python",
   "pygments_lexer": "ipython3",
   "version": "3.9.13"
  },
  "orig_nbformat": 4,
  "vscode": {
   "interpreter": {
    "hash": "7c877b00c40b53291cef5dca19c6617808114e2b90e4c77282dd7da283857463"
   }
  }
 },
 "nbformat": 4,
 "nbformat_minor": 2
}
