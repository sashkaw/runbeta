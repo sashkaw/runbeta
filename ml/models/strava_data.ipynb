{
 "cells": [
  {
   "attachments": {},
   "cell_type": "markdown",
   "metadata": {},
   "source": [
    "Description: Get all running activities for a given athlete"
   ]
  },
  {
   "cell_type": "code",
   "execution_count": 6,
   "metadata": {},
   "outputs": [],
   "source": [
    "# Imports\n",
    "import os\n",
    "import re\n",
    "import json\n",
    "import webbrowser\n",
    "from datetime import datetime\n",
    "from dotenv import load_dotenv\n",
    "import pandas as pd\n",
    "from stravalib.client import Client"
   ]
  },
  {
   "cell_type": "code",
   "execution_count": 7,
   "metadata": {},
   "outputs": [],
   "source": [
    "# Constants\n",
    "ACTIVITY_STREAM_TYPES = [\n",
    "    'time',\n",
    "    'latlng',\n",
    "    'distance',\n",
    "    'altitude',\n",
    "    'velocity_smooth',\n",
    "    'heartrate',\n",
    "    'grade_smooth'\n",
    "]"
   ]
  },
  {
   "cell_type": "code",
   "execution_count": 10,
   "metadata": {},
   "outputs": [],
   "source": [
    "# Read stored token from file\n",
    "stored_token = {}\n",
    "with open('../../strava_token.json', 'r') as rf:\n",
    "    stored_token = json.load(rf)\n",
    "\n",
    "client = Client(access_token=stored_token.get('access_token'))\n"
   ]
  },
  {
   "cell_type": "code",
   "execution_count": 11,
   "metadata": {},
   "outputs": [],
   "source": [
    "# get test data about athlete\n",
    "current_athlete = client.get_athlete()\n",
    "athlete_name = (current_athlete.firstname + '_' + current_athlete.lastname).lower()\n",
    "\n",
    "# Create folder to store data for that athlete\n",
    "folder_path = f'../activity_data/{athlete_name}/fit_file_csv/'\n",
    "if(not os.path.exists(folder_path)):\n",
    "    print('Creating new athlete folder...')\n",
    "    os.mkdir(folder_path)"
   ]
  },
  {
   "cell_type": "code",
   "execution_count": 12,
   "metadata": {},
   "outputs": [],
   "source": [
    "# Define dates for query. Note: there is a Strava API rate limit for given 15 minute period.\n",
    "date_start = datetime(2020, 1, 1)\n",
    "date_end = datetime.now()\n",
    "# Get all activities\n",
    "activities = client.get_activities(before=date_end, after=date_start)"
   ]
  },
  {
   "cell_type": "code",
   "execution_count": 26,
   "metadata": {},
   "outputs": [
    {
     "name": "stdout",
     "output_type": "stream",
     "text": [
      "Total runs: 72, runs with hr: 40\n",
      "Earliest run: 2022-01-12 20:39:01+00:00\n",
      "Earliest run with hr: 2022-10-04 14:22:18+00:00\n"
     ]
    }
   ],
   "source": [
    "total_count = 0\n",
    "total_runs = list()\n",
    "hr_count = 0\n",
    "runs_with_hr = list()\n",
    "for i in activities:\n",
    "    if(i.type == \"Run\"):\n",
    "        total_count += 1\n",
    "        total_runs.append(i)\n",
    "        if(i.has_heartrate):\n",
    "            hr_count += 1\n",
    "            runs_with_hr.append(i)\n",
    "\n",
    "print(\"Total runs: %d, runs with hr: %d\" % (total_count, hr_count))\n",
    "print(\"Earliest run: %s\" % total_runs[-1].start_date)\n",
    "print(\"Earliest run with hr: %s\" % runs_with_hr[-1].start_date)"
   ]
  },
  {
   "cell_type": "code",
   "execution_count": 14,
   "metadata": {},
   "outputs": [
    {
     "name": "stdout",
     "output_type": "stream",
     "text": [
      "2023-01-28T15.30.11GMT_Lindseyranak\n",
      "2023-01-24T23.48.08GMT_EveningRun\n",
      "2023-01-24T23.09.20GMT_EveningRun\n",
      "2023-01-15T16.07.50GMT_MorningRun\n",
      "2022-12-27T19.04.52GMT_AfternoonRun\n",
      "2022-12-10T14.05.02GMT_MorningRun\n",
      "2022-12-09T21.28.25GMT_AfternoonRun\n",
      "2022-12-07T15.17.49GMT_MorningRun\n",
      "2022-12-06T00.52.40GMT_AfternoonRun\n",
      "2022-12-03T17.14.47GMT_MorningRun\n",
      "2022-12-02T23.11.31GMT_AfternoonRun\n",
      "2022-11-28T23.15.04GMT_AfternoonRun\n",
      "2022-11-27T16.18.33GMT_MorningRun\n",
      "2022-11-25T18.41.28GMT_LunchRun\n",
      "2022-11-17T23.42.41GMT_AfternoonRun\n",
      "2022-11-13T15.56.27GMT_Teapotlongrun\n",
      "2022-11-11T23.20.28GMT_AfternoonRun\n",
      "2022-11-10T14.24.34GMT_MorningRun\n",
      "2022-11-08T23.20.19GMT_AfternoonRun\n",
      "2022-11-06T16.02.55GMT_MorningRun\n",
      "2022-11-05T22.10.22GMT_AfternoonRun\n",
      "2022-11-04T00.42.22GMT_AfternoonRun\n",
      "2022-11-02T01.21.04GMT_EveningRun\n",
      "2022-11-02T00.37.17GMT_WorkoutWarmUp\n",
      "2022-10-30T15.19.37GMT_MorningRun\n",
      "2022-10-29T15.41.05GMT_MorningRun\n",
      "2022-10-27T12.43.20GMT_Wogtempo\n",
      "2022-10-25T13.51.00GMT_MorningRun\n",
      "2022-10-23T15.46.57GMT_Cooldown\n",
      "2022-10-23T14.10.40GMT_krace\n",
      "2022-10-21T15.52.41GMT_MorningRun\n",
      "2022-10-20T22.25.21GMT_Workout\n",
      "2022-10-19T23.58.49GMT_AfternoonRun\n",
      "2022-10-17T15.54.20GMT_MorningRun\n",
      "2022-10-15T19.55.29GMT_LunchRun\n",
      "2022-10-12T11.04.52GMT_MorningRun\n",
      "2022-10-09T13.29.15GMT_Rillitolongrun\n",
      "2022-10-07T14.18.12GMT_MorningRun\n",
      "2022-10-06T00.55.07GMT_Totallyblastedbyathunderstorm\n",
      "2022-10-04T14.22.18GMT_MorningRun\n"
     ]
    }
   ],
   "source": [
    "# Save running activities with heart rate data as csv files\n",
    "for a in activities:\n",
    "    if(a.type == 'Run' and a.has_heartrate):\n",
    "        # Get dictionary of activity streams\n",
    "        activity_stream = client.get_activity_streams(\n",
    "            activity_id=a.id, types=ACTIVITY_STREAM_TYPES, resolution='medium')\n",
    "        # Extract streams of interest\n",
    "        data = {key: activity_stream.get(key).data for key in ACTIVITY_STREAM_TYPES}\n",
    "        # Create dataframe from streams\n",
    "        df = pd.DataFrame(data=data)\n",
    "        # Create file name from GMT start date and formatted activity name\n",
    "        filename = a.start_date.strftime('%Y-%m-%dT%H.%M.%S') + 'GMT_' + re.sub('[^a-zA-Z]', '', a.name) \n",
    "        print(filename)\n",
    "        # Save dataframe to csv file\n",
    "        df.to_csv(f'{folder_path}{filename}.csv', index=False)"
   ]
  },
  {
   "cell_type": "code",
   "execution_count": null,
   "metadata": {},
   "outputs": [],
   "source": [
    "# set parameters, file names\n",
    "\n",
    "#select the features for EDA graphs:\n",
    "eda_model_features =  [\"heart_rate\", \"enhanced_speed\",\"rolling_ave_alt\", \"cadence\", \"distance\", \"enhanced_altitude\"] #  cadence, enhanced_altitude, distance, heart_rate, enhanced_speed, rolling_ave_alt\n",
    "\n",
    "#select the predictors for the model:\n",
    "model_features =  [\"heart_rate\", \"enhanced_speed\",\"rolling_ave_alt\",\"cadence\"] #  cadence, altitude, distance, heart_rate, enhanced_speed, rolling_ave_alt\n",
    "batch_size = 250 # training batch size for the LSTM\n",
    "epochs = 180 # maximum number of epochs - autostop will work on per file basis\n",
    "learning_rate = 0.001\n",
    "decay_rate = 0.001\n",
    "n_X = 120 # number of timesteps for training\n",
    "n_y = 22 # number of timesteps in future for prediction\n",
    "step = 1 # step size of predictors for model training\n",
    "\n",
    "sequence_length = int(n_X/step)\n",
    "n_fit_files_test_set = 10 # number of files for validation dataset (only 1 validation file supported at the moment)\n",
    "\n",
    "# select the training files and the validation files \n",
    "train_files = glob.glob(fit_path+\"/*.csv\")[0:-n_fit_files_test_set]\n",
    "valid_files = glob.glob(fit_path+\"/*.csv\")[-n_fit_files_test_set:]\n",
    "#test_files = glob.glob(fit_test_path+\"/*.csv\")\n"
   ]
  }
 ],
 "metadata": {
  "kernelspec": {
   "display_name": "venv",
   "language": "python",
   "name": "python3"
  },
  "language_info": {
   "codemirror_mode": {
    "name": "ipython",
    "version": 3
   },
   "file_extension": ".py",
   "mimetype": "text/x-python",
   "name": "python",
   "nbconvert_exporter": "python",
   "pygments_lexer": "ipython3",
   "version": "3.9.13"
  },
  "orig_nbformat": 4,
  "vscode": {
   "interpreter": {
    "hash": "7c877b00c40b53291cef5dca19c6617808114e2b90e4c77282dd7da283857463"
   }
  }
 },
 "nbformat": 4,
 "nbformat_minor": 2
}
