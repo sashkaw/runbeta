{
 "cells": [
  {
   "cell_type": "markdown",
   "metadata": {},
   "source": [
    "Description: Authenticate strava account and store access token as json"
   ]
  },
  {
   "cell_type": "code",
   "execution_count": 1,
   "metadata": {},
   "outputs": [],
   "source": [
    "# Imports\n",
    "import os\n",
    "import json\n",
    "import webbrowser\n",
    "from dotenv import load_dotenv\n",
    "from stravalib.client import Client"
   ]
  },
  {
   "cell_type": "code",
   "execution_count": 2,
   "metadata": {},
   "outputs": [],
   "source": [
    "# Init Strava client\n",
    "client = Client()\n",
    "\n",
    "# Load environment variables\n",
    "load_dotenv('../../.env')\n",
    "STRAVA_CLIENT_ID = os.getenv('SOCIAL_AUTH_STRAVA_KEY')\n",
    "STRAVA_CLIENT_SECRET = os.getenv('SOCIAL_AUTH_STRAVA_SECRET')"
   ]
  },
  {
   "cell_type": "code",
   "execution_count": 3,
   "metadata": {},
   "outputs": [
    {
     "data": {
      "text/plain": [
       "True"
      ]
     },
     "execution_count": 3,
     "metadata": {},
     "output_type": "execute_result"
    }
   ],
   "source": [
    "# Get authorization url for first time user manual authorization for access \n",
    "# to their strava account\n",
    "auth_url = client.authorization_url(client_id=STRAVA_CLIENT_ID, \n",
    "    redirect_uri='http://127.0.0.1:8000/', # for local development\n",
    "    scope=['read_all','profile:read_all','activity:read_all'])\n",
    "\n",
    "# Authenticate and add code to environment variables\n",
    "webbrowser.open(auth_url, new=0, autoraise=True)"
   ]
  },
  {
   "cell_type": "code",
   "execution_count": 4,
   "metadata": {},
   "outputs": [],
   "source": [
    "# Load new env with code\n",
    "load_dotenv('../../.env', override=True)\n",
    "\n",
    "# Get code from the authorization link\n",
    "STRAVA_CLIENT_CODE = os.getenv('SOCIAL_AUTH_STRAVA_CODE')\n",
    "\n",
    "# Exchange code for access token\n",
    "access_token = client.exchange_code_for_token(client_id=STRAVA_CLIENT_ID,\n",
    "                                              client_secret=STRAVA_CLIENT_SECRET,\n",
    "                                              code=STRAVA_CLIENT_CODE)"
   ]
  },
  {
   "cell_type": "code",
   "execution_count": 5,
   "metadata": {},
   "outputs": [],
   "source": [
    "# Save access token to file for later use\n",
    "with open('../../strava_token.json', 'w') as f:\n",
    "    json.dump(access_token, f)"
   ]
  },
  {
   "cell_type": "code",
   "execution_count": null,
   "metadata": {},
   "outputs": [],
   "source": []
  }
 ],
 "metadata": {
  "kernelspec": {
   "display_name": "venv",
   "language": "python",
   "name": "python3"
  },
  "language_info": {
   "codemirror_mode": {
    "name": "ipython",
    "version": 3
   },
   "file_extension": ".py",
   "mimetype": "text/x-python",
   "name": "python",
   "nbconvert_exporter": "python",
   "pygments_lexer": "ipython3",
   "version": "3.9.13"
  },
  "orig_nbformat": 4,
  "vscode": {
   "interpreter": {
    "hash": "7c877b00c40b53291cef5dca19c6617808114e2b90e4c77282dd7da283857463"
   }
  }
 },
 "nbformat": 4,
 "nbformat_minor": 2
}
